{
 "cells": [
  {
   "cell_type": "code",
   "execution_count": 1,
   "metadata": {
    "collapsed": true,
    "ExecuteTime": {
     "start_time": "2023-04-19T18:18:44.359490Z",
     "end_time": "2023-04-19T18:18:46.496825Z"
    }
   },
   "outputs": [],
   "source": [
    "import math\n",
    "\n",
    "import pandas as pd"
   ]
  },
  {
   "cell_type": "code",
   "execution_count": 2,
   "outputs": [],
   "source": [
    "world_country_gdp_usd = pd.read_csv('../data/GDP/world_country_gdp_usd.csv')"
   ],
   "metadata": {
    "collapsed": false,
    "ExecuteTime": {
     "start_time": "2023-04-19T18:18:48.219219Z",
     "end_time": "2023-04-19T18:18:48.440534Z"
    }
   }
  },
  {
   "cell_type": "code",
   "execution_count": 3,
   "outputs": [
    {
     "name": "stdout",
     "output_type": "stream",
     "text": [
      "                  Country Name Country Code  year       GDP_USD  \\\n",
      "0                        Aruba          ABW  1960           NaN   \n",
      "1  Africa Eastern and Southern          AFE  1960  2.129059e+10   \n",
      "2                  Afghanistan          AFG  1960  5.377778e+08   \n",
      "3   Africa Western and Central          AFW  1960  1.040414e+10   \n",
      "4                       Angola          AGO  1960           NaN   \n",
      "\n",
      "   GDP_per_capita_USD  \n",
      "0                 NaN  \n",
      "1          162.726326  \n",
      "2           59.773234  \n",
      "3          107.930722  \n",
      "4                 NaN  \n"
     ]
    }
   ],
   "source": [
    "print(world_country_gdp_usd.head())"
   ],
   "metadata": {
    "collapsed": false,
    "ExecuteTime": {
     "start_time": "2023-04-19T18:18:49.135820Z",
     "end_time": "2023-04-19T18:18:49.140167Z"
    }
   }
  },
  {
   "cell_type": "code",
   "execution_count": 4,
   "outputs": [],
   "source": [
    "set_data=set(world_country_gdp_usd['year'])"
   ],
   "metadata": {
    "collapsed": false,
    "ExecuteTime": {
     "start_time": "2023-04-19T18:18:49.930912Z",
     "end_time": "2023-04-19T18:18:49.934324Z"
    }
   }
  },
  {
   "cell_type": "code",
   "execution_count": 5,
   "outputs": [
    {
     "data": {
      "text/plain": "Index(['Country Name', 'Country Code', 'year', 'GDP_USD',\n       'GDP_per_capita_USD'],\n      dtype='object')"
     },
     "execution_count": 5,
     "metadata": {},
     "output_type": "execute_result"
    }
   ],
   "source": [
    "world_country_gdp_usd.columns"
   ],
   "metadata": {
    "collapsed": false,
    "ExecuteTime": {
     "start_time": "2023-04-19T18:18:50.487383Z",
     "end_time": "2023-04-19T18:18:50.491179Z"
    }
   }
  },
  {
   "cell_type": "code",
   "execution_count": 6,
   "outputs": [],
   "source": [
    "from models.data_util import dataset_split\n",
    "\n",
    "test = dataset_split(world_country_gdp_usd, 0, 16492, 266, axis=0)"
   ],
   "metadata": {
    "collapsed": false,
    "ExecuteTime": {
     "start_time": "2023-04-19T18:18:51.371751Z",
     "end_time": "2023-04-19T18:18:52.651292Z"
    }
   }
  },
  {
   "cell_type": "code",
   "execution_count": 8,
   "outputs": [],
   "source": [
    "path='../data/split_dataset/test/'\n",
    "for i in test.keys():\n",
    "    test[i].to_csv(path + i + '.csv')"
   ],
   "metadata": {
    "collapsed": false,
    "ExecuteTime": {
     "start_time": "2023-04-19T18:19:47.371675Z",
     "end_time": "2023-04-19T18:19:47.425760Z"
    }
   }
  },
  {
   "cell_type": "code",
   "execution_count": null,
   "outputs": [],
   "source": [],
   "metadata": {
    "collapsed": false
   }
  }
 ],
 "metadata": {
  "kernelspec": {
   "display_name": "Python 3",
   "language": "python",
   "name": "python3"
  },
  "language_info": {
   "codemirror_mode": {
    "name": "ipython",
    "version": 2
   },
   "file_extension": ".py",
   "mimetype": "text/x-python",
   "name": "python",
   "nbconvert_exporter": "python",
   "pygments_lexer": "ipython2",
   "version": "2.7.6"
  }
 },
 "nbformat": 4,
 "nbformat_minor": 0
}
