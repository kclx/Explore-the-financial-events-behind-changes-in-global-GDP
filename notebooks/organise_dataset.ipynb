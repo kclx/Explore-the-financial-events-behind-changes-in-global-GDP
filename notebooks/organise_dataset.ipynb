{
 "cells": [
  {
   "cell_type": "code",
   "execution_count": 1,
   "metadata": {
    "collapsed": true,
    "ExecuteTime": {
     "start_time": "2023-04-15T12:58:09.180202Z",
     "end_time": "2023-04-15T12:58:11.281968Z"
    }
   },
   "outputs": [],
   "source": [
    "import math\n",
    "\n",
    "import pandas as pd"
   ]
  },
  {
   "cell_type": "code",
   "execution_count": 2,
   "outputs": [],
   "source": [
    "world_country_gdp_usd = pd.read_csv('/Volumes/KeQing/Documents/Dataset/world_country_gdp_usd.csv')"
   ],
   "metadata": {
    "collapsed": false,
    "ExecuteTime": {
     "start_time": "2023-04-15T12:58:13.142691Z",
     "end_time": "2023-04-15T12:58:13.155266Z"
    }
   }
  },
  {
   "cell_type": "code",
   "execution_count": 6,
   "outputs": [
    {
     "name": "stdout",
     "output_type": "stream",
     "text": [
      "                  Country Name Country Code  year       GDP_USD  \\\n",
      "0                        Aruba          ABW  1960           NaN   \n",
      "1  Africa Eastern and Southern          AFE  1960  2.129059e+10   \n",
      "2                  Afghanistan          AFG  1960  5.377778e+08   \n",
      "3   Africa Western and Central          AFW  1960  1.040414e+10   \n",
      "4                       Angola          AGO  1960           NaN   \n",
      "\n",
      "   GDP_per_capita_USD  \n",
      "0                 NaN  \n",
      "1          162.726326  \n",
      "2           59.773234  \n",
      "3          107.930722  \n",
      "4                 NaN  \n"
     ]
    }
   ],
   "source": [
    "print(world_country_gdp_usd.head())"
   ],
   "metadata": {
    "collapsed": false,
    "ExecuteTime": {
     "start_time": "2023-04-15T12:58:29.708210Z",
     "end_time": "2023-04-15T12:58:29.711170Z"
    }
   }
  },
  {
   "cell_type": "code",
   "execution_count": 10,
   "outputs": [],
   "source": [
    "set_data=set(world_country_gdp_usd['year'])"
   ],
   "metadata": {
    "collapsed": false,
    "ExecuteTime": {
     "start_time": "2023-04-15T13:00:40.759862Z",
     "end_time": "2023-04-15T13:00:40.761767Z"
    }
   }
  },
  {
   "cell_type": "code",
   "execution_count": 25,
   "outputs": [
    {
     "data": {
      "text/plain": "Index(['Country Name', 'Country Code', 'year', 'GDP_USD',\n       'GDP_per_capita_USD'],\n      dtype='object')"
     },
     "execution_count": 25,
     "metadata": {},
     "output_type": "execute_result"
    }
   ],
   "source": [
    "world_country_gdp_usd.columns"
   ],
   "metadata": {
    "collapsed": false,
    "ExecuteTime": {
     "start_time": "2023-04-15T13:13:03.993293Z",
     "end_time": "2023-04-15T13:13:03.998278Z"
    }
   }
  },
  {
   "cell_type": "code",
   "execution_count": 36,
   "outputs": [],
   "source": [
    "from models.data_util import dataset_split\n",
    "\n",
    "test = dataset_split(world_country_gdp_usd, 0, 16492, 266, axis=0)"
   ],
   "metadata": {
    "collapsed": false,
    "ExecuteTime": {
     "start_time": "2023-04-13T20:32:51.882697Z",
     "end_time": "2023-04-13T20:32:51.895542Z"
    }
   }
  },
  {
   "cell_type": "code",
   "execution_count": 49,
   "outputs": [],
   "source": [
    "for i in test.keys():\n",
    "    test[i].to_csv('/Volumes/KeQing/Documents/PyCharm/data_analysis/learn_matplotlib/test_dataset_split/' + i + '.csv')"
   ],
   "metadata": {
    "collapsed": false,
    "ExecuteTime": {
     "start_time": "2023-04-13T20:42:42.185782Z",
     "end_time": "2023-04-13T20:42:42.243760Z"
    }
   }
  }
 ],
 "metadata": {
  "kernelspec": {
   "display_name": "Python 3",
   "language": "python",
   "name": "python3"
  },
  "language_info": {
   "codemirror_mode": {
    "name": "ipython",
    "version": 2
   },
   "file_extension": ".py",
   "mimetype": "text/x-python",
   "name": "python",
   "nbconvert_exporter": "python",
   "pygments_lexer": "ipython2",
   "version": "2.7.6"
  }
 },
 "nbformat": 4,
 "nbformat_minor": 0
}
